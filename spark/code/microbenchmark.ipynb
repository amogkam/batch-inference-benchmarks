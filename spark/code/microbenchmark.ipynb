{
 "cells": [
  {
   "cell_type": "code",
   "execution_count": 0,
   "metadata": {
    "application/vnd.databricks.v1+cell": {
     "cellMetadata": {
      "byteLimit": 2048000,
      "rowLimit": 10000
     },
     "inputWidgets": {},
     "nuid": "a4832578-6320-43f6-a462-bd8eb1ae454b",
     "showTitle": false,
     "title": ""
    }
   },
   "outputs": [],
   "source": [
    "# Enable Arrow support.\n",
    "spark.conf.set(\"spark.sql.execution.arrow.enabled\", \"true\")"
   ]
  },
  {
   "cell_type": "code",
   "execution_count": 0,
   "metadata": {
    "application/vnd.databricks.v1+cell": {
     "cellMetadata": {
      "byteLimit": 2048000,
      "rowLimit": 10000
     },
     "inputWidgets": {},
     "nuid": "525bb7ea-f7b3-44ff-a013-3d8d9fc82135",
     "showTitle": false,
     "title": ""
    }
   },
   "outputs": [],
   "source": [
    "input_data = spark.read.format(\"parquet\").load(\"s3://air-example-data-2/10G-image-data-synthetic-raw-parquet\")\n",
    "# Force execution of the read, and cache the data\n",
    "cached_input = input_data.cache()"
   ]
  },
  {
   "cell_type": "code",
   "execution_count": 0,
   "metadata": {
    "application/vnd.databricks.v1+cell": {
     "cellMetadata": {
      "byteLimit": 2048000,
      "rowLimit": 10000
     },
     "inputWidgets": {},
     "nuid": "0ac17aec-e3d2-45dd-aeeb-f7b3e8935353",
     "showTitle": false,
     "title": ""
    }
   },
   "outputs": [
    {
     "output_type": "stream",
     "name": "stdout",
     "output_type": "stream",
     "text": [
      "# data partitions:  32\n# Spark max parallelism:  64\n"
     ]
    }
   ],
   "source": [
    "# More parallelism than data partitions.\n",
    "print(\"# data partitions: \", cached_input.rdd.getNumPartitions())\n",
    "print(\"# Spark max parallelism: \", sc.defaultParallelism)"
   ]
  },
  {
   "cell_type": "code",
   "execution_count": 0,
   "metadata": {
    "application/vnd.databricks.v1+cell": {
     "cellMetadata": {
      "byteLimit": 2048000,
      "rowLimit": 10000
     },
     "inputWidgets": {},
     "nuid": "269d5038-ac2c-4415-aa15-2ae4b239698f",
     "showTitle": false,
     "title": ""
    }
   },
   "outputs": [
    {
     "output_type": "display_data",
     "data": {
      "application/vnd.databricks.v1+bamboolib_hint": "{\"pd.DataFrames\": [], \"version\": \"0.0.1\"}",
      "text/plain": []
     },
     "metadata": {
      "application/vnd.databricks.v1+output": {
       "addedWidgets": {},
       "arguments": {},
       "data": {
        "application/vnd.databricks.v1+bamboolib_hint": "{\"pd.DataFrames\": [], \"version\": \"0.0.1\"}",
        "text/plain": ""
       },
       "datasetInfos": [],
       "executionCount": null,
       "metadata": {
        "kernelSessionId": "b57204b4-3c4675446be8738502ee6ac0"
       },
       "removedWidgets": [],
       "type": "mimeBundle"
      }
     },
     "output_type": "display_data"
    }
   ],
   "source": [
    "from pyspark.sql.functions import col, pandas_udf\n",
    "from pyspark.sql.types import ArrayType, FloatType\n",
    "\n",
    "import pandas as pd\n",
    "import time\n",
    "\n",
    "@pandas_udf(ArrayType(FloatType()))\n",
    "def dummy_preprocess(image: pd.Series) -> pd.Series:\n",
    "    time.sleep(1)\n",
    "    return image"
   ]
  },
  {
   "cell_type": "code",
   "execution_count": 0,
   "metadata": {
    "application/vnd.databricks.v1+cell": {
     "cellMetadata": {
      "byteLimit": 2048000,
      "rowLimit": 10000
     },
     "inputWidgets": {},
     "nuid": "3ce8e20a-6f74-4cb8-b94c-b771736c7e43",
     "showTitle": false,
     "title": ""
    }
   },
   "outputs": [],
   "source": [
    "# Preprocess with a 1 second sleep\n",
    "# Since the parallelism is more than data partitions, all partitions should run in parallel.\n",
    "dummy_preprocessed_data = cached_input.select(dummy_preprocess(col(\"image\")))"
   ]
  },
  {
   "cell_type": "code",
   "execution_count": 0,
   "metadata": {
    "application/vnd.databricks.v1+cell": {
     "cellMetadata": {
      "byteLimit": 2048000,
      "rowLimit": 10000
     },
     "inputWidgets": {},
     "nuid": "b004ed5f-7ce5-4f02-b140-773804fa5570",
     "showTitle": false,
     "title": ""
    }
   },
   "outputs": [
    {
     "output_type": "stream",
     "name": "stdout",
     "output_type": "stream",
     "text": [
      "Preprocessing took: 128.91825461387634 seconds\n"
     ]
    }
   ],
   "source": [
    "# Force execution of preprocessing\n",
    "\n",
    "start_time = time.time()\n",
    "dummy_preprocessed_data.write.mode(\"overwrite\").format(\"noop\").save()\n",
    "end_time = time.time()\n",
    "print(f\"Preprocessing took: {end_time-start_time} seconds\")"
   ]
  },
  {
   "cell_type": "code",
   "execution_count": 0,
   "metadata": {
    "application/vnd.databricks.v1+cell": {
     "cellMetadata": {
      "byteLimit": 2048000,
      "rowLimit": 10000
     },
     "inputWidgets": {},
     "nuid": "3065d09f-3c50-431c-9ba7-4189dbdd1da2",
     "showTitle": false,
     "title": ""
    }
   },
   "outputs": [
    {
     "output_type": "stream",
     "name": "stdout",
     "output_type": "stream",
     "text": [
      "============================================================\nProfile of UDF<id=56>\n============================================================\n         48 function calls in 16.015 seconds\n\n   Ordered by: internal time, cumulative time\n\n   ncalls  tottime  percall  cumtime  percall filename:lineno(function)\n       16   16.015    1.001   16.015    1.001 {built-in method time.sleep}\n       16    0.000    0.000   16.015    1.001 <command-566047737056994>:7(dummy_preprocess)\n       16    0.000    0.000    0.000    0.000 {method 'disable' of '_lsprof.Profiler' objects}\n\n\n"
     ]
    }
   ],
   "source": [
    "sc.show_profiles()"
   ]
  },
  {
   "cell_type": "code",
   "execution_count": 0,
   "metadata": {
    "application/vnd.databricks.v1+cell": {
     "cellMetadata": {},
     "inputWidgets": {},
     "nuid": "a4c1b933-45e5-4116-9481-e0525917d640",
     "showTitle": false,
     "title": ""
    }
   },
   "outputs": [],
   "source": []
  }
 ],
 "metadata": {
  "application/vnd.databricks.v1+notebook": {
   "dashboards": [],
   "language": "python",
   "notebookMetadata": {
    "pythonIndentUnit": 4
   },
   "notebookName": "microbenchmark",
   "notebookOrigID": 566047737056974,
   "widgets": {}
  }
 },
 "nbformat": 4,
 "nbformat_minor": 0
}
